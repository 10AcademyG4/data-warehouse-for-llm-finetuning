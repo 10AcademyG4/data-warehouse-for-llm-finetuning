{
 "cells": [
  {
   "cell_type": "markdown",
   "source": [
    "### Remove special characters"
   ],
   "metadata": {
    "collapsed": false
   },
   "id": "edcd9ad20874f655"
  },
  {
   "cell_type": "markdown",
   "source": [
    "using str.isalnum()\n",
    "Here we will Remove Special Characters from String Python using String isalnum() method checks whether all the characters in a given string are alphanumeric or not. It returns a boolean as True – If all the characters are alphanumeric or else false – If one or more characters are not alphanumeric."
   ],
   "metadata": {
    "collapsed": false
   },
   "id": "deab9943075d0be2"
  },
  {
   "cell_type": "code",
   "execution_count": 6,
   "id": "initial_id",
   "metadata": {
    "collapsed": true,
    "ExecuteTime": {
     "end_time": "2024-05-20T16:40:22.644631Z",
     "start_time": "2024-05-20T16:40:22.641826Z"
    }
   },
   "outputs": [],
   "source": [
    "string = \"Ge;ek * s:fo ! r;Ge * e*k:s !\""
   ]
  },
  {
   "cell_type": "code",
   "outputs": [],
   "source": [
    "test_str = ''.join(letter for letter in string if letter.isalnum() or letter == ' ')"
   ],
   "metadata": {
    "collapsed": false,
    "ExecuteTime": {
     "end_time": "2024-05-20T16:40:23.264935Z",
     "start_time": "2024-05-20T16:40:23.262195Z"
    }
   },
   "id": "b191a6621d48bcbd",
   "execution_count": 7
  },
  {
   "cell_type": "code",
   "outputs": [],
   "source": [
    "test_str = test_str.lower()"
   ],
   "metadata": {
    "collapsed": false,
    "ExecuteTime": {
     "end_time": "2024-05-20T16:41:05.100263Z",
     "start_time": "2024-05-20T16:41:05.095852Z"
    }
   },
   "id": "653b398075cf0753",
   "execution_count": 9
  },
  {
   "cell_type": "code",
   "outputs": [
    {
     "data": {
      "text/plain": "'geek  sfo  rge  eks '"
     },
     "execution_count": 10,
     "metadata": {},
     "output_type": "execute_result"
    }
   ],
   "source": [
    "test_str"
   ],
   "metadata": {
    "collapsed": false,
    "ExecuteTime": {
     "end_time": "2024-05-20T16:41:06.967399Z",
     "start_time": "2024-05-20T16:41:06.962864Z"
    }
   },
   "id": "a7f1194c27b9e6cf",
   "execution_count": 10
  },
  {
   "cell_type": "code",
   "outputs": [],
   "source": [],
   "metadata": {
    "collapsed": false
   },
   "id": "24f0a8e3855b509d"
  },
  {
   "cell_type": "markdown",
   "source": [
    "### Remove numbers"
   ],
   "metadata": {
    "collapsed": false
   },
   "id": "8980f855330c1997"
  },
  {
   "cell_type": "code",
   "outputs": [],
   "source": [
    "# Import regex\n",
    "import re"
   ],
   "metadata": {
    "collapsed": false,
    "ExecuteTime": {
     "end_time": "2024-05-20T16:41:44.637736Z",
     "start_time": "2024-05-20T16:41:44.635408Z"
    }
   },
   "id": "4ef94945b6ff542d",
   "execution_count": 11
  },
  {
   "cell_type": "code",
   "outputs": [],
   "source": [
    "string = \"Ge;ek * s:fo ! r;Ge * e*k:s ! 2008. Python 3.0\""
   ],
   "metadata": {
    "collapsed": false,
    "ExecuteTime": {
     "end_time": "2024-05-20T16:42:43.962677Z",
     "start_time": "2024-05-20T16:42:43.959921Z"
    }
   },
   "id": "6524fe5126f95eb",
   "execution_count": 16
  },
  {
   "cell_type": "code",
   "outputs": [],
   "source": [
    "lower_string = string.lower()"
   ],
   "metadata": {
    "collapsed": false,
    "ExecuteTime": {
     "end_time": "2024-05-20T16:42:44.458079Z",
     "start_time": "2024-05-20T16:42:44.454001Z"
    }
   },
   "id": "d6f494958b742b7a",
   "execution_count": 17
  },
  {
   "cell_type": "code",
   "outputs": [],
   "source": [
    "# Remove numbers\n",
    "no_number_str = re.sub(r'\\d+', '', lower_string)"
   ],
   "metadata": {
    "collapsed": false,
    "ExecuteTime": {
     "end_time": "2024-05-20T16:42:44.690975Z",
     "start_time": "2024-05-20T16:42:44.687870Z"
    }
   },
   "id": "dea177575da8f388",
   "execution_count": 18
  },
  {
   "cell_type": "code",
   "outputs": [
    {
     "data": {
      "text/plain": "'ge;ek * s:fo ! r;ge * e*k:s ! . python .'"
     },
     "execution_count": 19,
     "metadata": {},
     "output_type": "execute_result"
    }
   ],
   "source": [
    "no_number_str"
   ],
   "metadata": {
    "collapsed": false,
    "ExecuteTime": {
     "end_time": "2024-05-20T16:42:44.996030Z",
     "start_time": "2024-05-20T16:42:44.991409Z"
    }
   },
   "id": "2a24a8097f5998b",
   "execution_count": 19
  },
  {
   "cell_type": "code",
   "outputs": [],
   "source": [],
   "metadata": {
    "collapsed": false
   },
   "id": "3f8574ddf0808098"
  }
 ],
 "metadata": {
  "kernelspec": {
   "display_name": "Python 3",
   "language": "python",
   "name": "python3"
  },
  "language_info": {
   "codemirror_mode": {
    "name": "ipython",
    "version": 2
   },
   "file_extension": ".py",
   "mimetype": "text/x-python",
   "name": "python",
   "nbconvert_exporter": "python",
   "pygments_lexer": "ipython2",
   "version": "2.7.6"
  }
 },
 "nbformat": 4,
 "nbformat_minor": 5
}
